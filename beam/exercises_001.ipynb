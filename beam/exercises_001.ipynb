{
 "cells": [
  {
   "cell_type": "code",
   "execution_count": 1,
   "id": "10796dbd-7126-4848-9e6f-ac46f6a19d96",
   "metadata": {},
   "outputs": [],
   "source": [
    "import apache_beam as beam\n",
    "from apache_beam.options.pipeline_options import PipelineOptions\n",
    "\n",
    "import sys\n",
    "import logging\n",
    "from pathlib import Path"
   ]
  },
  {
   "cell_type": "code",
   "execution_count": 2,
   "id": "d22534c4-716d-4153-8e7c-d922e2869a4f",
   "metadata": {},
   "outputs": [
    {
     "name": "stdout",
     "output_type": "stream",
     "text": [
      "2025-08-31 22:52:08,594 - INFO - ==========\n",
      "2025-08-31 22:52:08,596 - INFO - starting a new notebook execution\n"
     ]
    }
   ],
   "source": [
    "# Create and configure logger\n",
    "log_path = Path(\"logs/beam_logs.log\").resolve()\n",
    "log_path.parent.mkdir(parents=True, exist_ok=True)\n",
    "logging.basicConfig(\n",
    "    format='%(asctime)s - %(levelname)s - %(message)s',\n",
    "    handlers=[\n",
    "        logging.FileHandler(log_path),\n",
    "        logging.StreamHandler(sys.stdout)\n",
    "    ],\n",
    ")\n",
    "\n",
    "# Creating an object\n",
    "logger = logging.getLogger()\n",
    "\n",
    "# Setting the threshold of logger to DEBUG\n",
    "logger.setLevel(logging.DEBUG)\n",
    "logging.info(\"==========\")\n",
    "logging.info(\"starting a new notebook execution\")\n",
    "\n",
    "# setting debug variables\n",
    "default_input_file = Path(\"../data/sample.txt\").resolve()\n",
    "default_output_dir = Path(\"../output/\").resolve()"
   ]
  },
  {
   "cell_type": "markdown",
   "id": "184aed8a-8cd2-47f6-9e32-691623083a00",
   "metadata": {},
   "source": [
    "# Pipeline options\n",
    "\n",
    "Arguments passed from the terminal at the time of execution.\n",
    "\n",
    "Terminal\n",
    "```sh\n",
    "--option=value\n",
    "```\n",
    "Python:\n",
    "```python\n",
    "beam_options = PipelineOptions()\n",
    "```\n",
    "\n",
    "Some examples:\n",
    "- input\n",
    "- output"
   ]
  },
  {
   "cell_type": "code",
   "execution_count": 3,
   "id": "56b9f2b3-2fce-4a3c-a096-96315f27c9fc",
   "metadata": {},
   "outputs": [],
   "source": [
    "class MyOptions(PipelineOptions):\n",
    "    @classmethod\n",
    "    def _add_argparse_args(cls, parser):\n",
    "        parser.add_argument('--input',\n",
    "                            default=str(default_input_file),\n",
    "                           help='File path to be processed as input.')\n",
    "        parser.add_argument('--output',\n",
    "                            default=str(default_output_dir),\n",
    "                           help='Path prefix for the output file(s).')\n",
    "        parser.add_argument('--platform',\n",
    "                            default='notebook',\n",
    "                            help='notebook= executed as a notebook, script=executed from terminal')"
   ]
  },
  {
   "cell_type": "code",
   "execution_count": 4,
   "id": "d82415f6-52eb-49e3-9852-67398d8dee37",
   "metadata": {},
   "outputs": [],
   "source": [
    "def main(argv=None):\n",
    "    # setting up the pipeline options\n",
    "    argv = argv or sys.argv[1:] \n",
    "    options = PipelineOptions(argv).view_as(MyOptions)\n",
    "    logging.debug(f\"Pipeline options initialized as: input={options.input}\")\n",
    "    logging.debug(f\"output={options.output} - Platform:{options.platform}\")\n",
    "    \n",
    "    with beam.Pipeline(options=options) as pipeline:\n",
    "        pass\n"
   ]
  },
  {
   "cell_type": "code",
   "execution_count": 5,
   "id": "9ff4da9c-1a7c-4028-abbe-47ff20e7533d",
   "metadata": {},
   "outputs": [
    {
     "name": "stdout",
     "output_type": "stream",
     "text": [
      "2025-08-31 22:52:08,617 - DEBUG - Pipeline options initialized as: input=/home/dogecl/project_repos/data_pipelines/data/sample.txt\n",
      "2025-08-31 22:52:08,618 - DEBUG - output=/home/dogecl/project_repos/data_pipelines/output - Platform:notebook\n",
      "2025-08-31 22:52:08,624 - INFO - Missing pipeline option (runner). Executing pipeline using the default runner: DirectRunner.\n",
      "2025-08-31 22:52:08,667 - WARNING - Discarding unparseable args: ['-f', '/home/dogecl/.local/share/jupyter/runtime/kernel-6e9cc15a-52e7-404f-927c-27caa25cda83.json']\n"
     ]
    }
   ],
   "source": [
    "if __name__ == '__main__':\n",
    "    main()"
   ]
  },
  {
   "cell_type": "code",
   "execution_count": null,
   "id": "c11dc7e8-bb68-47fc-be48-6a4ecc3f7ed3",
   "metadata": {},
   "outputs": [],
   "source": []
  }
 ],
 "metadata": {
  "kernelspec": {
   "display_name": "Python 3 (ipykernel)",
   "language": "python",
   "name": "python3"
  },
  "language_info": {
   "codemirror_mode": {
    "name": "ipython",
    "version": 3
   },
   "file_extension": ".py",
   "mimetype": "text/x-python",
   "name": "python",
   "nbconvert_exporter": "python",
   "pygments_lexer": "ipython3",
   "version": "3.12.3"
  }
 },
 "nbformat": 4,
 "nbformat_minor": 5
}
