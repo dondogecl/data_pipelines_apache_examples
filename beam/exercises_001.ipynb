{
 "cells": [
  {
   "cell_type": "code",
   "execution_count": 1,
   "id": "10796dbd-7126-4848-9e6f-ac46f6a19d96",
   "metadata": {},
   "outputs": [],
   "source": [
    "import apache_beam as beam\n",
    "from apache_beam.options.pipeline_options import PipelineOptions\n",
    "\n",
    "import logging\n",
    "from pathlib import Path"
   ]
  },
  {
   "cell_type": "code",
   "execution_count": 2,
   "id": "d22534c4-716d-4153-8e7c-d922e2869a4f",
   "metadata": {},
   "outputs": [],
   "source": [
    "# Create and configure logger\n",
    "logging.basicConfig(filename=\"beam_notebook.log\",\n",
    "                    format='%(asctime)s %(message)s',\n",
    "                    handlers=[\n",
    "                        logging.FileHandler(\"beam_notebook.log\"),\n",
    "                        logging.StreamHandler(sys.stdout)\n",
    "                    ]\n",
    "                    filemode='a')\n",
    "# Creating an object\n",
    "logger = logging.getLogger()\n",
    "\n",
    "# Setting the threshold of logger to DEBUG\n",
    "logger.setLevel(logging.DEBUG)\n",
    "logging.info(\"starting a new notebook execution\")"
   ]
  },
  {
   "cell_type": "markdown",
   "id": "184aed8a-8cd2-47f6-9e32-691623083a00",
   "metadata": {},
   "source": [
    "# Pipeline options\n",
    "\n",
    "Arguments passed from the terminal at the time of execution.\n",
    "\n",
    "Terminal\n",
    "```sh\n",
    "--option=value\n",
    "```\n",
    "Python:\n",
    "```python\n",
    "beam_options = PipelineOptions()\n",
    "```\n",
    "\n",
    "Some examples:\n",
    "- input\n",
    "- output"
   ]
  },
  {
   "cell_type": "code",
   "execution_count": 3,
   "id": "56b9f2b3-2fce-4a3c-a096-96315f27c9fc",
   "metadata": {},
   "outputs": [],
   "source": [
    "class MyOptions(PipelineOptions):\n",
    "    @classmethod\n",
    "    def _add_argparse_args(cls, parser):\n",
    "        parser.add_argument('--input',\n",
    "                            default='../data/sample.txt',\n",
    "                           help='File path to be processed as input.')\n",
    "        parser.add_argument('--output',\n",
    "                            default='../output/',\n",
    "                           help='Path prefix for the output file(s).')"
   ]
  },
  {
   "cell_type": "code",
   "execution_count": 4,
   "id": "d82415f6-52eb-49e3-9852-67398d8dee37",
   "metadata": {},
   "outputs": [],
   "source": [
    "def main(argv=None):\n",
    "    # setting up the pipeline options\n",
    "    options = MyOptions(argv)\n",
    "    logging.info(f\"Pipeline options initialized as: input={options.input} || output={options.output}\")\n",
    "    \n",
    "    with beam.Pipeline() as pipeline:\n",
    "        pass\n"
   ]
  },
  {
   "cell_type": "code",
   "execution_count": 5,
   "id": "9ff4da9c-1a7c-4028-abbe-47ff20e7533d",
   "metadata": {},
   "outputs": [],
   "source": [
    "if '__name__' == '__main__':\n",
    "    main()"
   ]
  },
  {
   "cell_type": "code",
   "execution_count": null,
   "id": "00b4817a-6017-4bc2-b9aa-b81870727e31",
   "metadata": {},
   "outputs": [],
   "source": []
  }
 ],
 "metadata": {
  "kernelspec": {
   "display_name": "Python 3 (ipykernel)",
   "language": "python",
   "name": "python3"
  },
  "language_info": {
   "codemirror_mode": {
    "name": "ipython",
    "version": 3
   },
   "file_extension": ".py",
   "mimetype": "text/x-python",
   "name": "python",
   "nbconvert_exporter": "python",
   "pygments_lexer": "ipython3",
   "version": "3.12.3"
  }
 },
 "nbformat": 4,
 "nbformat_minor": 5
}
